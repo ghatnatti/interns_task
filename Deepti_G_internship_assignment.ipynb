{
 "cells": [
  {
   "cell_type": "code",
   "execution_count": null,
   "id": "901f3b1a",
   "metadata": {},
   "outputs": [],
   "source": [
    "import os\n",
    "import joblib\n",
    "import numpy as np\n",
    "import pandas as pd\n",
    "from sklearn.tree import _tree\n",
    "from sklearn.metrics import roc_auc_score\n",
    "from sklearn.metrics import confusion_matrix\n",
    "from sklearn.preprocessing import LabelEncoder\n",
    "from sklearn.preprocessing import OneHotEncoder\n",
    "from sklearn.model_selection import train_test_split\n",
    "from sklearn.ensemble import RandomForestClassifier\n",
    "import matplotlib.pyplot as plt\n",
    "import seaborn as sns\n",
    "import scipy.stats as stats"
   ]
  },
  {
   "cell_type": "code",
   "execution_count": null,
   "id": "1dccf886",
   "metadata": {},
   "outputs": [],
   "source": [
    "# Load data\n",
    "dataset_name = 'D:\\\\sampled_data2.csv'\n",
    "df = pd.read_csv(dataset_name)\n",
    "print(df.shape)\n",
    "df.head()"
   ]
  },
  {
   "cell_type": "code",
   "execution_count": null,
   "id": "f03e3673",
   "metadata": {},
   "outputs": [],
   "source": [
    "df.loc[df['fraud'] == 0, 'fraud1'] = 'Not Fraud' \n",
    "df.loc[df['fraud'] == 1, 'fraud1'] = 'Fraud' \n",
    "df=df.drop([\"fraud\"],axis=1)\n",
    "\n",
    "\n",
    "df[\"amount\"]=df[\"amount\"].astype(int)"
   ]
  },
  {
   "cell_type": "code",
   "execution_count": null,
   "id": "075dd209",
   "metadata": {},
   "outputs": [],
   "source": [
    "entity_column = 'customer'\n",
    "merchant_column = 'merchant'\n",
    "target_column= 'fraud1'\n",
    "datetime_columns = 'step'"
   ]
  },
  {
   "cell_type": "code",
   "execution_count": null,
   "id": "f43ebb0e",
   "metadata": {},
   "outputs": [],
   "source": [
    "if entity_column == '':\n",
    "    df['entity_column']= df.index.tolist()\n",
    "    entity_column = 'entity_column' \n",
    "    \n",
    "if merchant_column == '':\n",
    "    df['merchant_column']= df.index.tolist()\n",
    "    merchant_column = 'merchant_column'\n",
    "    \n",
    "if datetime_columns == '':\n",
    "    df['datetime_columns']= df.index.tolist()    \n",
    "    datetime_columns = 'datetime_columns'\n",
    "\n",
    "numerical_columns = df._get_numeric_data().columns.values.tolist()\n",
    "print(numerical_columns)"
   ]
  },
  {
   "cell_type": "code",
   "execution_count": null,
   "id": "7baebf00",
   "metadata": {},
   "outputs": [],
   "source": [
    "sns.barplot(data=df, x='fraud1', y='amount')\n",
    "\n",
    "\n",
    "#Independent T test\n",
    "\n",
    "stats.ttest_ind(df['amount'][df['fraud1'] == 'Not Fraud'],\n",
    "                df['amount'][df['fraud1'] == 'Fraud'])\n",
    "\n",
    "##There is statistical significance as p<0.05"
   ]
  },
  {
   "cell_type": "code",
   "execution_count": null,
   "id": "49147f01",
   "metadata": {},
   "outputs": [],
   "source": [
    "plt.figure(figsize=(20,8))\n",
    "sns.barplot(data=df, x='category', y='amount',hue=\"fraud1\")\n",
    "\n"
   ]
  },
  {
   "cell_type": "code",
   "execution_count": null,
   "id": "15347053",
   "metadata": {},
   "outputs": [],
   "source": [
    "sns.barplot(data=df, x='age', y='amount',hue=\"fraud1\")"
   ]
  },
  {
   "cell_type": "code",
   "execution_count": null,
   "id": "b40647a1",
   "metadata": {},
   "outputs": [],
   "source": [
    "sns.barplot(data=df, x='gender', y='amount',hue=\"fraud1\")"
   ]
  },
  {
   "cell_type": "code",
   "execution_count": null,
   "id": "cf217555",
   "metadata": {},
   "outputs": [],
   "source": [
    "X = df.drop(columns=[entity_column,merchant_column,target_column,datetime_columns])\n",
    "y = df[target_column]\n",
    "\n",
    "\n",
    "\n",
    "# Label Encoding of Categorical Columns\n",
    "categorical_names = {}\n",
    "for feature in X.columns:\n",
    "    X[feature] =  X[feature].fillna('') \n",
    "    le =  LabelEncoder()\n",
    "    le.fit(X[feature])\n",
    "    X[feature] = le.transform(X[feature])\n",
    "    categorical_names[feature] = le.classes_\n",
    "    \n",
    "\n",
    "X_train, X_test, y_train, y_test = train_test_split(X, y, test_size=0.75, random_state=42,stratify=y)\n",
    "\n",
    "rf = RandomForestClassifier(criterion='entropy', class_weight='balanced', random_state=42)\n",
    "rf.fit(X_train, y_train)\n",
    "\n",
    "predictions = rf.predict_proba(X_test)\n",
    "predictions_class = rf.predict(X_test)\n",
    "\n",
    "\n",
    "if df[target_column].nunique()> 2:\n",
    "    rules_score = roc_auc_score(y_test, predictions[:,1], multi_class = 'ovo')\n",
    "else:\n",
    "    rules_score = roc_auc_score(y_test, predictions[:,1])\n",
    "\n",
    "print(rules_score)\n",
    "\n",
    "from sklearn.metrics import confusion_matrix\n",
    "cf_matrix = confusion_matrix(y_test, predictions_class)\n",
    "print(cf_matrix)\n",
    "\n",
    "import seaborn as sns\n",
    "#sns.heatmap(cf_matrix, annot=True)\n",
    "\n",
    "sns.heatmap(cf_matrix/np.sum(cf_matrix), annot=True, \n",
    "            fmt='.2%', cmap='Blues')"
   ]
  },
  {
   "cell_type": "code",
   "execution_count": null,
   "id": "bd9229c6",
   "metadata": {},
   "outputs": [],
   "source": []
  }
 ],
 "metadata": {
  "kernelspec": {
   "display_name": "Python 3",
   "language": "python",
   "name": "python3"
  },
  "language_info": {
   "codemirror_mode": {
    "name": "ipython",
    "version": 3
   },
   "file_extension": ".py",
   "mimetype": "text/x-python",
   "name": "python",
   "nbconvert_exporter": "python",
   "pygments_lexer": "ipython3",
   "version": "3.8.8"
  }
 },
 "nbformat": 4,
 "nbformat_minor": 5
}
0.983806426611797
[[ 4950   450]
 [  555 12945]]
